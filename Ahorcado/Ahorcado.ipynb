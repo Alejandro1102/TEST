{
 "cells": [
  {
   "cell_type": "markdown",
   "id": "b9d3f00d",
   "metadata": {},
   "source": [
    "# EL JUEGO DEL AHORCADO"
   ]
  },
  {
   "cell_type": "markdown",
   "id": "92fc3ad1",
   "metadata": {},
   "source": [
    "### Descripción\n",
    "- Es un juego a papel y lapiz, tiene el objetivo de adivinar una palabra o frase secreta.\n",
    "- Por cada letra presenete en la palabra o frase secreta, se abre un espacio, representado por un guión bajo.\n",
    "- El jugador tratara de adivinar la palabra o frase proporcionando una letra (o números, si es el caso) que el considere pueda estar presente en la palabra miesteriosa.\n",
    "- Si la letra esta presente, se revela el lugar donde corresponde, colocandose en el espacio correspondiente remplazando el guión bajo.\n",
    "- Si la letra no esta presente se hara un trazo en el dibujo.\n",
    "- Trazo a trazo se ira completando un dibujo de un \"ahorcado\", que es un hombre colgado de una horca.\n",
    "- El juego termina cuando la palabra o frase sea adivinada, lo que significa ganar el juego, o cuando el dibujo del ahorcado sea completado, señalando la derrota.\n",
    "\n",
    "![Hangman](Hangman.jpg)"
   ]
  },
  {
   "cell_type": "markdown",
   "id": "1e7e6265",
   "metadata": {},
   "source": [
    "### Historia\n",
    "La primera referencia importante al juego esta hecha en 1894 en **_\"The Traditional Games of England, Scotland, and Ireland - Vol I\"_** (Juegos tradicionales de Inglaterra, Escocia e Irlanda) por **Alice Bertha Gomme**, bajo el nombre \"Birds, Beasts, and Fishes\" (Pájaros, Bestias y Peces). \n",
    "En este juego, un jugador anota la primera y ultima letra de un animal o bestia, y llena las letras del medio con \"X\", el otro jugador va adivinando las letras y se reemplazan las \"X\"; la manera de contabilizar los errores se hacia con un sistema distinto al del dibujo del ahorcado.\n",
    "\n",
    "![Alice](AliceB-TG.png)\n",
    "\n",
    "Hace algunos años, empezó a circular en la web, una historia distinta sobre el origen del ahorcado un poco más \"interesante\", sin embargo, al no existir una evidencia documentada sobre esta historia, no se tomara en cuenta."
   ]
  },
  {
   "cell_type": "markdown",
   "id": "3b67f0c7",
   "metadata": {},
   "source": [
    "### Esrategía\n",
    "En nuestro idioma, las letras más frecuentes son (de mayor a menor): e-a-o-s-r-n-i-d-l-c-t-u.\n",
    "Por lo que una buena estrategía es comenzar con una de estas letras.\n",
    "Otra estrategía es intenar con las vocales, que en el español, solo son cinco y casi todas las palabras tienen al menos una vocal."
   ]
  },
  {
   "cell_type": "markdown",
   "id": "7a4c3a6e",
   "metadata": {},
   "source": [
    "### Reglas\n",
    "Las reglas van variando de acuerdo a cada situación y a cada grupo de jugadores.\n",
    "\n",
    "Para este Ahorcado, las reglas son:\n",
    "\n",
    "- El dibujo del ahorcado se realiza con 20 trazos.\n",
    "- El jugador elije las vidas con las que desea jugar. Con un maximo de 20 vidas y un minimo de 1. Mientras menor sea el numero de vidas, por cada error se haran mas trazos, y mientras mas vidas se elijan, cada error involucra menos trazos.\n",
    "- Para este ahorcado, solo hay palabras, no hay frases.\n",
    "- Las palabras son en idioma español, de dificultad media.\n",
    "- Las palabras estan compuestas unicamente por las letras pertenecientes al alfabeto del español.\n",
    "- Para el juego las palabras estan escritas en mayusculas y las letras que escibas automaticamente el juego las convierte a mayusculas, por lo que no tendras que preocuparte si escribes en mayusculas o minusculas.\n",
    "- El juego no admite caracteres con tilde, las palabras secretas se escibiran sin tilde, por lo que **No debes colocar tilde** en tus respuestas, pues tomara la letra como error. Esto se hace para evitar que el juego se vuelva mucho mas complejo y dificil.\n",
    "- La palabra miesteriosa es elegida aleatoriamente de una base de datos.\n",
    "- Si proporcionas una letra que has dicho anteriormente, el juego dara un aviso, y no contara como un error.\n",
    "- Si cuando te pidan una letra, digitas el **número 1** automaticamente se mostrara la palabra secreta.\n",
    "- Cualquier caracter que proporciones, si no esta presente en la palabra, contara como error, esto incluye numeros, simbolos, y caracteres especiales.\n",
    "- El juego termina si se avidinan todas las letras de la palabra o si el dibujo del ahorcado se completa."
   ]
  },
  {
   "cell_type": "markdown",
   "id": "cc37bb46",
   "metadata": {},
   "source": [
    "### Referencias bibliográficas\n",
    "- Juego del Ahorcado - El juego del ahorcado - Hangman. (2021, 31 enero). El juego del ahorcado. https://www.juegodelahorcado.com/\n",
    "\n",
    "- Ahorcado - EcuRed. (s. f.). EcuRed. Recuperado 19 de junio de 2021, de https://www.ecured.cu/Ahorcado#M.C3.A9todo_de_Juego\n",
    "- Orlando, J. (2016, 19 agosto). El juego del ahorcado. Prezi.Com. https://prezi.com/2cncvknwyeoz/el-juego-del-ahorcado/\n",
    "- AHORCADO - Definición y sinónimos de ahorcado en el diccionario español. (s. f.). educalingo. Recuperado 19 de junio de 2021, de https://educalingo.com/es/dic-es/ahorcado"
   ]
  },
  {
   "cell_type": "markdown",
   "id": "d5de213c",
   "metadata": {},
   "source": [
    "## Pseudocódigo "
   ]
  },
  {
   "cell_type": "markdown",
   "id": "c58a7717",
   "metadata": {},
   "source": [
    "1. Se abre una base de datos.\n",
    "2. Se crea una variable que contenga cada elemento de esa base de datos.\n",
    "3. Se crea una nueva variable llamada \"palabra secreta\" que elije una palabra aleatoriamente de la lista.\n",
    "4. Creación de una subrutina que dibuje un ahorcado en 20 trazos.\n",
    "    - Esta Subrutina tendra argumentos que vayan del 0 al 20\n",
    "    - Conforme el argumento vaya aumentando, el dibujo ira agregando un nuevo trazo.\n",
    "    - El valor 0 unicamente representara el area de dibujo, pero no tiene ningun trazo.\n",
    "5. Pida al usuario, cual es número maximo de fracasos o errores que desea cometer antes de perder. Guarde ese número en una variable llamada \"Max_fracasos\".\n",
    "    - si Mas_fracasos es menor o igual a 0, o es mayor a 39\n",
    "        - imprima error y pida un nuevo numero.\n",
    "6. Cree una nueva variable llamada Errores, con valor igual a 0.\n",
    "7. Cree una nueva lista llamda \"Lista_Respuesta\" y dejela vacia.\n",
    "8. Inicie un ciclo for, que haga una iteración por cada letra de la palabra secreta.\n",
    "    - En cada iteración agregue un guión bajo a la lista \"Listta_Respuesta\"\n",
    "9. Inicia la rutina principal\n",
    "    - Inicie un ciclo while.\n",
    "        - Imprima el titulo \"El Juego del Ahorcado\"\n",
    "        - imprima (Max_Errores - Errores), de modo que indique los errores permitidos, restantes.\n",
    "        - Crea una variable llamada \"GradoDeError\" cuyo valor sea el redondeo de la siguiente operación (Errores * (20/Max_Fracasos)). \n",
    "        - Inicie un ciclo for, que itere n veces, n iterara (valor de \"GradoDeError\" + 1)\n",
    "            - La variable Trazos tomara el valor de n en cada iteración, \n",
    "            - Llame a la subrutina \"dibujo(Trazos)\" y ejecutela.\n",
    "        - Dibuje el resultado de ejecutar la subturina \"dibujo(Trazos)\"\n",
    "        - Inicie un ciclo for que itere n veces, n tomara  su valor, de la cantidad de elementos que esten presentes en la lista \"Linea_Respuesta\"\n",
    "            - Imprime el elemento que este presente en la posición n.\n",
    "        - Si la variable Linea_Respuesta es igual a la palabra secreta:\n",
    "            - Imprima \"Has ganado\"\n",
    "            - Termine el programa.\n",
    "        - Si GradoDeError es igual a 20:\n",
    "            - Imprima \"Perdiste\"\n",
    "            - Imprima palabra secreta\n",
    "            - Termine el programa.\n",
    "        - Inicie ciclo while:\n",
    "            - Pida al usuario una letra.\n",
    "            - Si el usuario da más de una letra:\n",
    "                - Imprima \"De solo una letra\"\n",
    "            - De lo contrario si la letra esta en la lista \"letras_usadas\":\n",
    "                - Imprima \"Ya usaste esa letra\"\n",
    "            - De lo contrario si el usuario escribe \"1\":\n",
    "                - Imprima palabra_secreta.\n",
    "            - De lo contrario:\n",
    "                - Añada la letra a letras_usadas.\n",
    "                - Salga de este ciclo.\n",
    "        - Inicie ciclo for que itere n veces, n vale el número de letras que tiene la palabra secreta.\n",
    "            - Si la letra dada por el jugador, esta presente en alguna posición de la palabra secreta:\n",
    "                - Esa letra remplazara al guión correspondiente, presente en la lista \"Linea_Respuesta\"\n",
    "        - Si letra no esta presente en palabra secreta:\n",
    "            - Sumale 1 a la variable Errores.\n"
   ]
  },
  {
   "cell_type": "markdown",
   "id": "96d50f14",
   "metadata": {},
   "source": [
    "### Código del dibujo"
   ]
  },
  {
   "cell_type": "markdown",
   "id": "dc3bfae3",
   "metadata": {},
   "source": [
    "~~~\n",
    "plt.xlim(-31, 31)\n",
    "plt.ylim(-31, 31)\n",
    "\n",
    "#1.Horca base\n",
    "plt.plot([-20, 20], [-25, -25],lw=30, color='saddlebrown')\n",
    "\n",
    "#2.Horca soporte diagonal\n",
    "plt.plot([-14, -5], [10, 16],lw=15, color='saddlebrown')\n",
    "\n",
    "#3.Horca poste\n",
    "plt.plot([-14, -14], [-25, 16],lw=30, color='saddlebrown')\n",
    "\n",
    "#4.Horca transversal\n",
    "plt.plot([-14, 0], [16, 16],lw=30, color='saddlebrown')\n",
    "\n",
    "#5.Horca union a cuerda\n",
    "plt.plot([0, 0], [10.4, 16],lw=30, color='saddlebrown')\n",
    "\n",
    "#6.Lazo\n",
    "plt.plot([0, 0], [5.1, 8],lw=12, color='darkkhaki')\n",
    "\n",
    "#7.Cabeza\n",
    "cabeza = Circle((0,0), 4, fill=False, lw=8, color='black')\n",
    "plt.gca().add_patch(cabeza);\n",
    "\n",
    "#8.Ojos\n",
    "ojo1 = Circle((1.5,0.8), 0.8, fill=True, lw=1, color='black')\n",
    "plt.gca().add_patch(ojo1);\n",
    "ojo2 = Circle((-1.5,0.8), 0.8, fill=True, lw=1, color='black')\n",
    "plt.gca().add_patch(ojo2);\n",
    "\n",
    "#9.Boca\n",
    "plt.plot([-1.5, 1.5], [-1.4, -1.4],lw=6, color='black')\n",
    "\n",
    "#10.Torzo y cuello\n",
    "plt.plot([0, 0], [-4.2, -12],lw=10, color='black')\n",
    "\n",
    "#11.Lazo cuello\n",
    "plt.plot([0.5, -0.5], [-4.8, -4.8],lw=9, color='darkkhaki')\n",
    "\n",
    "#12.Brazo1\n",
    "plt.plot([-0.2, -4], [-6, -8],lw=8, color='black')\n",
    "\n",
    "#13.Mano1\n",
    "mano1 = Circle((-5, -8.35), 0.8, fill=False, lw=5, color='black')\n",
    "plt.gca().add_patch(mano1);\n",
    "\n",
    "#14.Brazo2\n",
    "plt.plot([0.2, 4], [-6, -8],lw=8, color='black')\n",
    "\n",
    "#15.Mano2\n",
    "mano2 = Circle((5, -8.35), 0.8, fill=False, lw=5, color='black')\n",
    "plt.gca().add_patch(mano2);\n",
    "\n",
    "#16.Pierna1\n",
    "plt.plot([-0.2, -4], [-12, -16],lw=8, color='black')\n",
    "\n",
    "#17.Pie1\n",
    "pie1 = Ellipse((-5,-16.5), 2, 1.6, fill=True, lw=5, color='black')\n",
    "plt.gca().add_patch(pie1);\n",
    "\n",
    "#18.Pierna2\n",
    "plt.plot([0.2, 4], [-12, -16],lw=8, color='black')\n",
    "\n",
    "#19.Pie2\n",
    "pie2 = Ellipse((5,-16.5), 2, 1.6, fill=True, lw=5, color='black')\n",
    "plt.gca().add_patch(pie2);\n",
    "\n",
    "#20.You lost\n",
    "plt.plot([1, 2], [1.3, 0.3],lw=8, color='black')\n",
    "plt.plot([1, 2], [0.3, 1.3],lw=8, color='black')\n",
    "plt.plot([-1, -2], [1.3, 0.3],lw=8, color='black')\n",
    "plt.plot([-1, -2], [0.3, 1.3],lw=8, color='black')\n",
    "\n",
    "cabezaLostBlue = Circle((0,0), 4, fill=True, lw=8, color=\"lightsteelblue\")\n",
    "plt.gca().add_patch(cabezaLostBlue);\n",
    "cabezaLostLine = Circle((0,0), 4, fill=False, lw=8, color=\"Black\")\n",
    "plt.gca().add_patch(cabezaLostLine);\n",
    "\n",
    "lengua = Ellipse((1,-2.1), 1, 1.2, fill=True, lw=5, color='lightcoral')\n",
    "plt.plot([-1.5, 1.5], [-1.4, -1.4],lw=6, color='black')\n",
    "plt.gca().add_patch(lengua);\n",
    "\n",
    "manoLostBlue1 = Circle((-5, -8.35), 0.8, fill=True, lw=5, color='lightsteelblue')\n",
    "plt.gca().add_patch(manoLostBlue1);\n",
    "manoLost1 = Circle((-5, -8.35), 0.8, fill=False, lw=5, color='black')\n",
    "plt.gca().add_patch(manoLost1);\n",
    "manoLostBlue2 = Circle((5, -8.35), 0.8, fill=True, lw=5, color='lightsteelblue')\n",
    "plt.gca().add_patch(manoLostBlue2);\n",
    "manoLost2 = Circle((5, -8.35), 0.8, fill=False, lw=5, color='black')\n",
    "plt.gca().add_patch(manoLost2);\n",
    "\n",
    "~~~"
   ]
  },
  {
   "cell_type": "markdown",
   "id": "8bee8319",
   "metadata": {},
   "source": [
    "# Programa"
   ]
  },
  {
   "cell_type": "code",
   "execution_count": 1,
   "id": "ad88def4",
   "metadata": {},
   "outputs": [],
   "source": [
    "%matplotlib inline\n",
    "#Activar el modo inline - de esta manera las figuras aparecerán automáticamente incrustadas en el notebook."
   ]
  },
  {
   "cell_type": "code",
   "execution_count": 2,
   "id": "b6db583a",
   "metadata": {},
   "outputs": [],
   "source": [
    "import numpy as np\n",
    "import matplotlib.pyplot as plt\n",
    "#Importamos los paquetes necesarios para dibujar el ahorcado."
   ]
  },
  {
   "cell_type": "code",
   "execution_count": 3,
   "id": "9972ed8a",
   "metadata": {},
   "outputs": [],
   "source": [
    "import random\n",
    "#Sera necesaria para seleccionar una palabra aleatoria de la base de datos."
   ]
  },
  {
   "cell_type": "code",
   "execution_count": 4,
   "id": "080f5e29",
   "metadata": {},
   "outputs": [],
   "source": [
    "class color:\n",
    "      RED = '\\033[91m'\n",
    "      BOLD = '\\033[1m'\n",
    "      BLACK   = '\\033[30m'\n",
    "      UNDERLINE = '\\033[4m'\n",
    "      END = '\\033[0m'\n",
    "#Clase para cambiar el formato de texto.\n",
    "#El END se usa para regresar el texto a la normalidad luego de haberse modificado."
   ]
  },
  {
   "cell_type": "code",
   "execution_count": 5,
   "id": "07e53201",
   "metadata": {},
   "outputs": [],
   "source": [
    "with open(\"Palabras.txt\",\"r\") as File:\n",
    "    #Abrir la base de datos que esta en forma de archivo de texto. En modo lectura\n",
    "    base_datos = File.readlines()\n",
    "    #Se crea una variable (tipo lista) y en ella se meten los valores leidos de la base de datos.\n",
    "    File.close()\n",
    "    #Se cierra el archivo, pues ya se extrajo la información."
   ]
  },
  {
   "cell_type": "code",
   "execution_count": 6,
   "id": "c8522125",
   "metadata": {},
   "outputs": [],
   "source": [
    "lista_palabras = []\n",
    "for fileLine in base_datos:\n",
    "    fileLine = fileLine.replace(\"\\n\",\"\")\n",
    "    lista_palabras.append(fileLine)\n",
    "    #Crea una nueva lista llamada \"lista_palabras\", \n",
    "    #con los elementos de la lista \"base_datos\" pero en ella no esta presente el salto de linea (\\n)."
   ]
  },
  {
   "cell_type": "code",
   "execution_count": 7,
   "id": "6c435ad3",
   "metadata": {},
   "outputs": [],
   "source": [
    "lista_palabras_mayus = list(map(str.upper, lista_palabras))\n",
    "#Crea una nueva lista, con los elementos de \"lista_palabras\" convertidos a mayusculas."
   ]
  },
  {
   "cell_type": "code",
   "execution_count": 8,
   "id": "b28899d3",
   "metadata": {},
   "outputs": [],
   "source": [
    "palabra_secreta = list(random.choice(lista_palabras_mayus))\n",
    "#Crea una nueva variable, que selecciona una palabra aleatoria de las palabras pertenecientes a \"lista_palabras_mayus\".\n",
    "#Convierte la palabra seleccionada aleatoriamente a una lista, donde cada letra de la palabra, \n",
    "#se vuelve un elemento de la lista \"palabra_secreta\"."
   ]
  },
  {
   "cell_type": "code",
   "execution_count": 9,
   "id": "03fb3cad",
   "metadata": {},
   "outputs": [],
   "source": [
    "palabra_secreta_cadena = \"\".join(palabra_secreta)\n",
    " #Crea una nueva variable que convierte la palabra secreta que esta en forma de lista a una cadena."
   ]
  },
  {
   "cell_type": "code",
   "execution_count": 10,
   "id": "c56e0afa",
   "metadata": {},
   "outputs": [],
   "source": [
    "from matplotlib.patches import Circle\n",
    "#Se importa para poder dibujar circulos."
   ]
  },
  {
   "cell_type": "code",
   "execution_count": 11,
   "id": "8bad7b66",
   "metadata": {},
   "outputs": [],
   "source": [
    "from matplotlib.patches import Ellipse\n",
    "#Se importa para poder dibujar elipses."
   ]
  },
  {
   "cell_type": "code",
   "execution_count": 12,
   "id": "a796f9b5",
   "metadata": {},
   "outputs": [],
   "source": [
    "escala = 0.3\n",
    "#Se declara una nueva variable, que funciona como una razón para modificar la escala de todo el dibujo.\n",
    "#El 0.3 lo elegí porque en mi computadora es el tamaño perfecto, debido a que si doy un tamaño mayor, me parece molesto\n",
    "#el tener que scrollear."
   ]
  },
  {
   "cell_type": "code",
   "execution_count": 13,
   "id": "29cbd191",
   "metadata": {},
   "outputs": [
    {
     "data": {
      "image/png": "[encoded data removed]",
      "text/plain": [
       "<Figure size 216x216 with 1 Axes>"
      ]
     },
     "metadata": {
      "needs_background": "light"
     },
     "output_type": "display_data"
    },
    {
     "name": "stdout",
     "output_type": "stream",
     "text": [
      "\u001b[1mPara una mejor experiencia, seleccione la escala que desee que tenga el dibujo. Actualmente esta en 0.3\n",
      "\u001b[0m\n",
      "¿Te gusta esta escala?\n",
      "Contesta SI o NO\n",
      "no\n",
      "¿Qué escala te gustaria?0.4\n"
     ]
    },
    {
     "data": {
      "image/png": "[encoded data removed]",
      "text/plain": [
       "<Figure size 288x288 with 1 Axes>"
      ]
     },
     "metadata": {
      "needs_background": "light"
     },
     "output_type": "display_data"
    },
    {
     "name": "stdout",
     "output_type": "stream",
     "text": [
      "\u001b[1mPara una mejor experiencia, seleccione la escala que desee que tenga el dibujo. Actualmente esta en 0.3\n",
      "\u001b[0m\n",
      "¿Te gusta esta escala?\n",
      "Contesta SI o NO\n",
      "si\n"
     ]
    }
   ],
   "source": [
    "#Seleccionar escala.\n",
    "boolescala = True\n",
    "while boolescala == True:\n",
    "    #Creacion de una variable booleana que sirva para salir del while.\n",
    "    #While que sirve a base de la variable booleana.\n",
    "    \n",
    "    #Este dibujo es solo una fracción del dibujo completo, hecho a manera de ejemplo, para poder visualizar la escala.\n",
    "    plt.rcParams['figure.figsize'] = (10*escala, 10*escala)\n",
    "    #Definición del tamaño del \"plano cartesiano\"\n",
    "    plt.xlim(-31, 31)\n",
    "    plt.ylim(-31, 31)\n",
    "    #Definición de los limites del plano, en este caso por comodidad va de -31 a 31 para ambos ejes.\n",
    "    #Los limites del eje x tienen que ser iguales a los del eje y, para que los circulos se vean como circulos.\n",
    "    \n",
    "    plt.text(0, 25, escala,\n",
    "         fontsize=30*escala,\n",
    "         fontweight='bold')\n",
    "    #El plano tiene presente un texto que indica el valor de la variable escala.\n",
    "    \n",
    "    #DIBUJO\n",
    "    #1.Horca base\n",
    "    plt.plot([-20, 20], [-25, -25],lw=30*escala, color='saddlebrown')\n",
    "\n",
    "    #2.Horca soporte diagonal\n",
    "    plt.plot([-14, -5], [10, 16],lw=15*escala, color='saddlebrown')\n",
    "\n",
    "    #3.Horca poste\n",
    "    plt.plot([-14, -14], [-25, 16],lw=30*escala, color='saddlebrown')\n",
    "\n",
    "    #4.Horca transversal\n",
    "    plt.plot([-14, 0], [16, 16],lw=30*escala, color='saddlebrown' )\n",
    "\n",
    "    #5.Horca union a cuerda\n",
    "    plt.plot([0, 0], [10.4, 16],lw=30*escala, color='saddlebrown')\n",
    "\n",
    "    #6.Lazo\n",
    "    plt.plot([0, 0], [5.1, 8],lw=12*escala, color='darkkhaki')\n",
    "\n",
    "    #7.Cabeza\n",
    "    cabeza = Circle((0,0), 4, fill=False, lw=8*escala, color='black')\n",
    "    plt.gca().add_patch(cabeza);\n",
    "\n",
    "    #8.Ojos\n",
    "    ojo1 = Circle((1.5,0.8), 0.8, fill=True, lw=1*escala, color='black')\n",
    "    plt.gca().add_patch(ojo1);\n",
    "    ojo2 = Circle((-1.5,0.8), 0.8, fill=True, lw=1*escala, color='black')\n",
    "    plt.gca().add_patch(ojo2);\n",
    "    plt.show()\n",
    "    \n",
    "#Tanto el tamaño del plano cartesiano como el tamaño de los trazos del dibujo, son multiplicados por la razón de proporcion\n",
    "#multiplicar el trazo por la variable escala, es necesario, \n",
    "#pues de lo contrario se deformaria la figura con la variación de la escala.\n",
    "    \n",
    "    \n",
    "    print(color.BOLD + \"Para una mejor experiencia, seleccione la escala que desee que tenga el dibujo. Actualmente esta en 0.3\\n\" + color.END)\n",
    "    #El \"color.BOLD\" marca el inicio de las negritas en la frase\n",
    "    #El \"color.END\" marca el final de la modificacion y vuelve el texto a texto base.\n",
    "    \n",
    "    Respuesta = input(color.BOLD + \"¿Te gusta esta escala?\\nContesta SI o NO\\n\" + color.END).upper()\n",
    "    #Eñ .upper() hace que aunque el jugador escriba su respuesta con minusculas, el programa lo reconozca.\n",
    "    if Respuesta == \"SI\":\n",
    "        boolescala = False\n",
    "    #Se cambia la booleana a falso para que salga del ciclo.\n",
    "    elif Respuesta == \"NO\":\n",
    "        escala = float(input(color.BOLD + \"¿Qué escala te gustaria?\" + color.END))"
   ]
  },
  {
   "cell_type": "code",
   "execution_count": 14,
   "id": "19a51b38",
   "metadata": {},
   "outputs": [],
   "source": [
    "plt.rcParams['figure.figsize'] = (10*escala, 10*escala)\n",
    "#Definición del plano cartesiano.\n",
    "#Se multiplica el tamaño del plano por la razon de escala."
   ]
  },
  {
   "cell_type": "code",
   "execution_count": 15,
   "id": "aa791278",
   "metadata": {},
   "outputs": [],
   "source": [
    "#Función/subrutina del código que dibuja en 20 trazos a un ahorcado.\n",
    "\n",
    "#Definiendo la función encargada de dibujar.\n",
    "#La funcion dibujo tendra como argumento la variable Trazos, la cual tomara valores del 0 al 20.\n",
    "def dibujo(Trazos):\n",
    "    if Trazos == 0:\n",
    "        #0.Plano\n",
    "        plt.xlim(-31, 31)\n",
    "        plt.ylim(-31, 31)\n",
    "            #Cuando no hay errores, solo se imprime el plano cartesiano, con sus limites correspondientes.\n",
    "        \n",
    "    elif Trazos == 1:\n",
    "        #1.Horca base\n",
    "        plt.plot([-20, 20], [-25, -25],lw=30*escala, color='saddlebrown')\n",
    "            #Funcion que dibuja una linea gruesa que simula la base de una horca\n",
    "            #lw es para ancho de linea\n",
    "            #Todos los lw son multiplicados por el factor de escala.\n",
    "        \n",
    "    elif Trazos == 2:\n",
    "        #2.Horca poste\n",
    "        plt.plot([-14, -14], [-25, 16],lw=30*escala, color='saddlebrown')\n",
    "        \n",
    "    elif Trazos == 3:\n",
    "        #3.Horca soporte diagonal\n",
    "        plt.plot([-14, -5], [10, 16],lw=15*escala, color='saddlebrown')\n",
    "        \n",
    "    elif Trazos == 4:\n",
    "        #4.Horca transversal\n",
    "        plt.plot([-14, 0], [16, 16],lw=30*escala, color='saddlebrown')\n",
    "    \n",
    "    elif Trazos == 5:\n",
    "        #5.Horca union a cuerda\n",
    "        plt.plot([0, 0], [10.4, 16],lw=30*escala, color='saddlebrown')\n",
    "        \n",
    "    elif Trazos == 6:\n",
    "        #6.Lazo\n",
    "        plt.plot([0, 0], [5.1, 8],lw=12*escala, color='darkkhaki')\n",
    "        \n",
    "    elif Trazos == 7:\n",
    "        #7.Cabeza\n",
    "        cabeza = Circle((0,0), 4, fill=False, lw=8*escala, color='black')\n",
    "        plt.gca().add_patch(cabeza);\n",
    "            #La cabeza esta hecha a base de la funcion Circle.\n",
    "            #La segunda linea es necesaria para que se muestre la figura.\n",
    "            #El fill = False, es necesario para quitar el relleno del circulo.\n",
    "        \n",
    "    elif Trazos == 8:\n",
    "        #8.Ojos\n",
    "        ojo1 = Circle((1.5,0.8), 0.8, fill=True, lw=1*escala, color='black')\n",
    "        plt.gca().add_patch(ojo1);\n",
    "        ojo2 = Circle((-1.5,0.8), 0.8, fill=True, lw=1*escala, color='black')\n",
    "        plt.gca().add_patch(ojo2);\n",
    "        \n",
    "    elif Trazos == 9:\n",
    "        #9.Boca\n",
    "        plt.plot([-1.5, 1.5], [-1.4, -1.4],lw=6*escala, color='black')   \n",
    "        \n",
    "    elif Trazos == 10:\n",
    "        #10.Torzo y cuello\n",
    "        plt.plot([0, 0], [-4.2, -12],lw=10*escala, color='black')\n",
    "    \n",
    "    elif Trazos == 11:\n",
    "        #11.Lazo cuello\n",
    "        plt.plot([0.5, -0.5], [-4.8, -4.8],lw=9*escala, color='darkkhaki')\n",
    "        \n",
    "    elif Trazos == 12:\n",
    "        #12.Brazo1\n",
    "        plt.plot([-0.2, -4], [-6, -8],lw=8*escala, color='black')\n",
    "\n",
    "    elif Trazos == 13:\n",
    "        #13.Mano1\n",
    "        mano1 = Circle((-5, -8.35), 0.8, fill=False, lw=5*escala, color='black')\n",
    "        plt.gca().add_patch(mano1);\n",
    "        \n",
    "    elif Trazos == 14:\n",
    "        #14.Brazo2\n",
    "        plt.plot([0.2, 4], [-6, -8],lw=8*escala, color='black')\n",
    "\n",
    "    elif Trazos == 15:\n",
    "        #15.Mano2\n",
    "        mano2 = Circle((5, -8.35), 0.8, fill=False, lw=5*escala, color='black')\n",
    "        plt.gca().add_patch(mano2);\n",
    "        \n",
    "    elif Trazos == 16:\n",
    "        #16.Pierna1\n",
    "        plt.plot([-0.2, -4], [-12, -16],lw=8*escala, color='black')\n",
    "        \n",
    "    elif Trazos == 17:\n",
    "        #17.Pie1\n",
    "        pie1 = Ellipse((-5,-16.5), 2, 1.6, fill=True, lw=5*escala, color='black')\n",
    "        plt.gca().add_patch(pie1);\n",
    "            #El pie o zapato se hace con la funcion que dibuja elipses.\n",
    "        \n",
    "    elif Trazos == 18:\n",
    "        #18.Pierna2\n",
    "        plt.plot([0.2, 4], [-12, -16],lw=8*escala, color='black')\n",
    "        \n",
    "    elif Trazos == 19:\n",
    "        #19.Pie2\n",
    "        pie2 = Ellipse((5,-16.5), 2, 1.6, fill=True, lw=5*escala, color='black')\n",
    "        plt.gca().add_patch(pie2);\n",
    "        \n",
    "    elif Trazos == 20:\n",
    "        #20.You lost\n",
    "        plt.plot([1, 2], [1.3, 0.3],lw=8*escala, color='black')\n",
    "        plt.plot([1, 2], [0.3, 1.3],lw=8*escala, color='black')\n",
    "        plt.plot([-1, -2], [1.3, 0.3],lw=8*escala, color='black')\n",
    "        plt.plot([-1, -2], [0.3, 1.3],lw=8*escala, color='black')\n",
    "        cabezaLostBlue = Circle((0,0), 4, fill=True, lw=8*escala, color=\"lightsteelblue\")\n",
    "        plt.gca().add_patch(cabezaLostBlue);\n",
    "        cabezaLostLine = Circle((0,0), 4, fill=False, lw=8*escala, color=\"Black\")\n",
    "        plt.gca().add_patch(cabezaLostLine);\n",
    "        lengua = Ellipse((1,-2.1), 1, 1.2, fill=True, lw=5*escala, color='lightcoral')\n",
    "        plt.plot([-1.5, 1.5], [-1.4, -1.4],lw=6*escala, color='black')\n",
    "        plt.gca().add_patch(lengua);\n",
    "        manoLostBlue1 = Circle((-5, -8.35), 0.8, fill=True, lw=5*escala, color='lightsteelblue')\n",
    "        plt.gca().add_patch(manoLostBlue1);\n",
    "        manoLost1 = Circle((-5, -8.35), 0.8, fill=False, lw=5*escala, color='black')\n",
    "        plt.gca().add_patch(manoLost1);\n",
    "        manoLostBlue2 = Circle((5, -8.35), 0.8, fill=True, lw=5*escala, color='lightsteelblue')\n",
    "        plt.gca().add_patch(manoLostBlue2);\n",
    "        manoLost2 = Circle((5, -8.35), 0.8, fill=False, lw=5*escala, color='black')\n",
    "        plt.gca().add_patch(manoLost2);\n",
    "            #Crea nuevos circulos en las manos y cabeza con un color de base azul, simulando el ahogamiento del ahorcado.\n",
    "            #Encima se repiten las funciones que trazan las lineas que recubren el color azul.\n",
    "            #El dibujo de los ojos es eliminado y en su lugar hay dos funciones que juntas simulan una x\n",
    "            #Las X son referencias a animaciones de caricaturas que indican la muerte.\n",
    "            #Hay una elipse rosa que simula la lengua.\n"
   ]
  },
  {
   "cell_type": "code",
   "execution_count": 16,
   "id": "7154d35e",
   "metadata": {},
   "outputs": [],
   "source": [
    "letras_usadas = []\n",
    "#Declaracion de una lista, que almacenara todas las letras que se hayan usado, en forma de elementos de la lista."
   ]
  },
  {
   "cell_type": "code",
   "execution_count": 17,
   "id": "26038cf0",
   "metadata": {},
   "outputs": [
    {
     "name": "stdout",
     "output_type": "stream",
     "text": [
      "Digite el número máximo de fracasos que puede tener(de 1 a 39): 6\n"
     ]
    }
   ],
   "source": [
    "Max_Fracasos = int(input(color.BOLD + \"Digite el número máximo de fracasos que puede tener(de 1 a 39): \" + color.BOLD))\n",
    "if not 39 >= Max_Fracasos > 0:\n",
    "    bool = True\n",
    "while bool == True:\n",
    "    print(\"Número de vidas inválido\\n\")\n",
    "    intentos = int(input(color.BOLD + \"Digite el número máximo de fracasos que puede tener(de 1 a 39): \" + color.END))\n",
    "    if 39 >= intentos > 0:\n",
    "        bool = False\n",
    "        \n",
    "#Se crea una variable que almacenara el numero de fracasos maximos que el jugador desea tener como limite, antes de perder.\n",
    "#el numero de fracasos maximos simula \"el numero de vidas\" en otros juegos. Como MarioBros"
   ]
  },
  {
   "cell_type": "code",
   "execution_count": 18,
   "id": "508eeae0",
   "metadata": {},
   "outputs": [],
   "source": [
    "Errores = 0\n",
    "#Se crea una nueva variable, que servira para ir guardando los errores que cometa el jugador."
   ]
  },
  {
   "cell_type": "code",
   "execution_count": 19,
   "id": "b25b9738",
   "metadata": {},
   "outputs": [],
   "source": [
    "Linea_Respuesta = []\n",
    "#Nueva lista que guardara las lineas por cada letra de la palabra\n",
    "#Conforme se vayan diciendo letras correctas, esta lista guardara las palabras en la posición correcta."
   ]
  },
  {
   "cell_type": "code",
   "execution_count": 20,
   "id": "85246b38",
   "metadata": {},
   "outputs": [],
   "source": [
    "for i in range(len(palabra_secreta)):\n",
    "    Linea_Respuesta.append(color.UNDERLINE + color.BOLD + '_' + color.END)\n",
    "    #Hay un for que se repetira tantas veces como letras tenga la palabra secreta.\n",
    "    #Es decir, por cada letra en la palabra se hara un repetición.\n",
    "    #En cada repetición se agregara una un guion bajo como elemento de la lista.\n",
    "    #color.UNDERLINE es para subrayar, esto se hace para que al subrayarse el guión bajo, cree un efecto de linea más gruesa\n",
    "    #Debido a que aparentemente las negritas no afectan a los guiones bajos :( ."
   ]
  },
  {
   "cell_type": "code",
   "execution_count": 21,
   "id": "561d2232",
   "metadata": {},
   "outputs": [
    {
     "name": "stdout",
     "output_type": "stream",
     "text": [
      "\u001b[1m\u001b[91mEL JUEGO DEL AHORCADO\u001b[0m\n",
      "Intentos restantes:6\n"
     ]
    },
    {
     "data": {
      "image/png": "[encoded data removed]",
      "text/plain": [
       "<Figure size 288x288 with 1 Axes>"
      ]
     },
     "metadata": {
      "needs_background": "light"
     },
     "output_type": "display_data"
    },
    {
     "name": "stdout",
     "output_type": "stream",
     "text": [
      "\u001b[4m\u001b[1m_\u001b[0m \u001b[4m\u001b[1m_\u001b[0m \u001b[4m\u001b[1m_\u001b[0m \u001b[4m\u001b[1m_\u001b[0m \u001b[4m\u001b[1m_\u001b[0m \u001b[4m\u001b[1m_\u001b[0m \u001b[4m\u001b[1m_\u001b[0m \u001b[4m\u001b[1m_\u001b[0m Dime una letra:a\n",
      "\n",
      "\n",
      "\u001b[1m\u001b[91mEL JUEGO DEL AHORCADO\u001b[0m\n",
      "Intentos restantes:6\n"
     ]
    },
    {
     "data": {
      "image/png": "[encoded data removed]",
      "text/plain": [
       "<Figure size 288x288 with 1 Axes>"
      ]
     },
     "metadata": {
      "needs_background": "light"
     },
     "output_type": "display_data"
    },
    {
     "name": "stdout",
     "output_type": "stream",
     "text": [
      "\u001b[4m\u001b[1m_\u001b[0m \u001b[4m\u001b[1m_\u001b[0m \u001b[4m\u001b[1m_\u001b[0m \u001b[4m\u001b[1m_\u001b[0m \u001b[4m\u001b[1m_\u001b[0m \u001b[4m\u001b[1m_\u001b[0m \u001b[4m\u001b[1m_\u001b[0m A Dime una letra:l\n",
      "\n",
      "\n",
      "\u001b[1m\u001b[91mEL JUEGO DEL AHORCADO\u001b[0m\n",
      "Intentos restantes:5\n"
     ]
    },
    {
     "data": {
      "image/png": "[encoded data removed]",
      "text/plain": [
       "<Figure size 288x288 with 1 Axes>"
      ]
     },
     "metadata": {
      "needs_background": "light"
     },
     "output_type": "display_data"
    },
    {
     "name": "stdout",
     "output_type": "stream",
     "text": [
      "\u001b[4m\u001b[1m_\u001b[0m \u001b[4m\u001b[1m_\u001b[0m \u001b[4m\u001b[1m_\u001b[0m \u001b[4m\u001b[1m_\u001b[0m \u001b[4m\u001b[1m_\u001b[0m \u001b[4m\u001b[1m_\u001b[0m \u001b[4m\u001b[1m_\u001b[0m A Dime una letra:o\n",
      "\n",
      "\n",
      "\u001b[1m\u001b[91mEL JUEGO DEL AHORCADO\u001b[0m\n",
      "Intentos restantes:4\n"
     ]
    },
    {
     "data": {
      "image/png": "[encoded data removed]",
      "text/plain": [
       "<Figure size 288x288 with 1 Axes>"
      ]
     },
     "metadata": {
      "needs_background": "light"
     },
     "output_type": "display_data"
    },
    {
     "name": "stdout",
     "output_type": "stream",
     "text": [
      "\u001b[4m\u001b[1m_\u001b[0m \u001b[4m\u001b[1m_\u001b[0m \u001b[4m\u001b[1m_\u001b[0m \u001b[4m\u001b[1m_\u001b[0m \u001b[4m\u001b[1m_\u001b[0m \u001b[4m\u001b[1m_\u001b[0m \u001b[4m\u001b[1m_\u001b[0m A Dime una letra:r\n",
      "\n",
      "\n",
      "\u001b[1m\u001b[91mEL JUEGO DEL AHORCADO\u001b[0m\n",
      "Intentos restantes:3\n"
     ]
    },
    {
     "data": {
      "image/png": "[encoded data removed]",
      "text/plain": [
       "<Figure size 288x288 with 1 Axes>"
      ]
     },
     "metadata": {
      "needs_background": "light"
     },
     "output_type": "display_data"
    },
    {
     "name": "stdout",
     "output_type": "stream",
     "text": [
      "\u001b[4m\u001b[1m_\u001b[0m \u001b[4m\u001b[1m_\u001b[0m \u001b[4m\u001b[1m_\u001b[0m \u001b[4m\u001b[1m_\u001b[0m \u001b[4m\u001b[1m_\u001b[0m \u001b[4m\u001b[1m_\u001b[0m \u001b[4m\u001b[1m_\u001b[0m A Dime una letra:1\n",
      "\n",
      "\u001b[1mTu palabra es: EPIDEMIA\u001b[0m\n",
      "Dime una letra:e\n",
      "\n",
      "\n",
      "\u001b[1m\u001b[91mEL JUEGO DEL AHORCADO\u001b[0m\n",
      "Intentos restantes:3\n"
     ]
    },
    {
     "data": {
      "image/png": "[encoded data removed]",
      "text/plain": [
       "<Figure size 288x288 with 1 Axes>"
      ]
     },
     "metadata": {
      "needs_background": "light"
     },
     "output_type": "display_data"
    },
    {
     "name": "stdout",
     "output_type": "stream",
     "text": [
      "E \u001b[4m\u001b[1m_\u001b[0m \u001b[4m\u001b[1m_\u001b[0m \u001b[4m\u001b[1m_\u001b[0m E \u001b[4m\u001b[1m_\u001b[0m \u001b[4m\u001b[1m_\u001b[0m A Dime una letra:p\n",
      "\n",
      "\n",
      "\u001b[1m\u001b[91mEL JUEGO DEL AHORCADO\u001b[0m\n",
      "Intentos restantes:3\n"
     ]
    },
    {
     "data": {
      "image/png": "[encoded data removed]",
      "text/plain": [
       "<Figure size 288x288 with 1 Axes>"
      ]
     },
     "metadata": {
      "needs_background": "light"
     },
     "output_type": "display_data"
    },
    {
     "name": "stdout",
     "output_type": "stream",
     "text": [
      "E P \u001b[4m\u001b[1m_\u001b[0m \u001b[4m\u001b[1m_\u001b[0m E \u001b[4m\u001b[1m_\u001b[0m \u001b[4m\u001b[1m_\u001b[0m A Dime una letra:i\n",
      "\n",
      "\n",
      "\u001b[1m\u001b[91mEL JUEGO DEL AHORCADO\u001b[0m\n",
      "Intentos restantes:3\n"
     ]
    },
    {
     "data": {
      "image/png": "[encoded data removed]",
      "text/plain": [
       "<Figure size 288x288 with 1 Axes>"
      ]
     },
     "metadata": {
      "needs_background": "light"
     },
     "output_type": "display_data"
    },
    {
     "name": "stdout",
     "output_type": "stream",
     "text": [
      "E P I \u001b[4m\u001b[1m_\u001b[0m E \u001b[4m\u001b[1m_\u001b[0m I A Dime una letra:d\n",
      "\n",
      "\n",
      "\u001b[1m\u001b[91mEL JUEGO DEL AHORCADO\u001b[0m\n",
      "Intentos restantes:3\n"
     ]
    },
    {
     "data": {
      "image/png": "[encoded data removed]",
      "text/plain": [
       "<Figure size 288x288 with 1 Axes>"
      ]
     },
     "metadata": {
      "needs_background": "light"
     },
     "output_type": "display_data"
    },
    {
     "name": "stdout",
     "output_type": "stream",
     "text": [
      "E P I D E \u001b[4m\u001b[1m_\u001b[0m I A Dime una letra:m\n",
      "\n",
      "\n",
      "\u001b[1m\u001b[91mEL JUEGO DEL AHORCADO\u001b[0m\n",
      "Intentos restantes:3\n"
     ]
    },
    {
     "data": {
      "image/png": "[encoded data removed]",
      "text/plain": [
       "<Figure size 288x288 with 1 Axes>"
      ]
     },
     "metadata": {
      "needs_background": "light"
     },
     "output_type": "display_data"
    },
    {
     "name": "stdout",
     "output_type": "stream",
     "text": [
      "E P I D E M I A \u001b[1m\n",
      "FELICIDADES, HAS GANADO.\u001b[0m\n",
      "\n"
     ]
    }
   ],
   "source": [
    "#**Rutina principal**.\n",
    "\n",
    "while True:\n",
    "    print(color.BOLD + color.RED + \"EL JUEGO DEL AHORCADO\" + color.END)\n",
    "    #Impresion de titulo, con color.RED para darle color rojo.\n",
    "    \n",
    "    print(f\"Intentos restantes:{Max_Fracasos - Errores}\")\n",
    "    #Impresion de una especie de \"marcador\" o \"ScoreBoard\", que indica las vidas restantes\n",
    "    #(o errores que aun puede cometer el jugador).\n",
    "    \n",
    "    GradoDeError = round(Errores * (20/Max_Fracasos))\n",
    "    #Se define una variable, que representara los errores, de acuerdo a cuantos sean los maximos fracasos posibles.\n",
    "    #Es decir, cada error cometido por el jugador, tendra un peso correspondiente a el numero maximo de fracasos.\n",
    "    #La parte 20/Max_Fracasos, se realiza, para que cada error cometido por el jugador tenga un peso mayor o menor\n",
    "    #de acuerdo al limite de errores.\n",
    "    #Es otras palabras, cuando el jugador tenga mas tolerancia de errores, cada error que cometa\n",
    "    #(Representado por la variable Errores), valdra menos si el limite de fracasos es mayor.\n",
    "    #GradoDeError convierte los errores que comete el jugador a una escala que va del 0 al 20.\n",
    "    #Se utiliza la funcion round, para redondear los decimales obtenidos para numeros que no son divisores exactos de 20.\n",
    "    #Es necesario redondear, para que la subrutina funcione, pues solo funciona con valores enteros.\n",
    "        \n",
    "    for i in range (GradoDeError + 1):\n",
    "        Trazos = i\n",
    "        dibujo(Trazos)\n",
    "    plt.show()\n",
    "    #El for hara tantas iteraciones como GradoDeError valga + 1, \n",
    "    #Como ya se menciono GradoDeError toma valores del 0 al 20.\n",
    "    #El +1 es necesario, pues al momento de imprimir tambien es necesario tomar en cuenta, el caso donde no hay errores.\n",
    "    #Es decir Trazos == 0.\n",
    "    #Para las iteraciones Trazos toma el valor de i, esta a su vez, toma el valor de GradoDeError + 1\n",
    "    #Se ejecuta la subrutina, con el argumento trazos, que toma valores de 0 a 20 (21 elementos, pues el 0 se toma en cuenta)\n",
    "    #plt.show() Es muy necesario, para que cada cambio en el dibujo se pueda visualizar.\n",
    "    #La combinación de GradoDeError con la función dibujo(Trazos) permite que el dibujo se pueda hacer y vaya coordinado\n",
    "    #con los errores que cometa el jugador.\n",
    "\n",
    "    for i in Linea_Respuesta:\n",
    "        print(i, end = \" \")\n",
    "    #Imprime los valores que tenga la lista Linea_Respuestas\n",
    "    #En un inicio, solo hay guiones bajos, pero conforme avanza el juego, habra letras.\n",
    "        \n",
    "    if Linea_Respuesta == palabra_secreta:\n",
    "        print(color.BOLD + \"\\nFELICIDADES, HAS GANADO.\" + color.END)\n",
    "        print()\n",
    "        break\n",
    "        #Si la Lista Linea_Respuesta tiene todas las letras correctas, quiere decir que es igual a la palabra secreta\n",
    "        #Entonces el jugador gana el juego.\n",
    "        \n",
    "    if GradoDeError == 20:\n",
    "        print(color.BOLD + \"\\nPERDISTE\" + color.END)\n",
    "        print(color.BOLD + f\"La palabra secreta era:\\n{palabra_secreta_cadena}\" + color.END)\n",
    "        print()\n",
    "        break\n",
    "        #Si el GradoDeError es igual a 20, quiere decir que el dibujo se completo, lo que significa la derrota.\n",
    "        #Al final del juego se revela la palabra secreta.\n",
    "    \n",
    "    while True:\n",
    "        Letra = input(color.BOLD + \"Dime una letra:\" + color.END).upper()\n",
    "        print()\n",
    "        #Se pide ingresar una letra, que automaticamente se cambia a mayuscula, para reconocer por ejemplo que a == A.\n",
    "        #La letra del usuario se guarda en la variable Letra\n",
    "        if not len(Letra) == 1:\n",
    "            print(color.BOLD + \"Solo introduce una letra.\" + color.END)\n",
    "            #Si el usuario teclea mas de una letra, imprime mensaje y no sale del ciclo.\n",
    "            #el not indica negacion, \"not ==\"\" es igual que decir \"!=\"\n",
    "\n",
    "        elif Letra in letras_usadas:\n",
    "            print(color.BOLD + \"Ya usaste esa letra.\" + color.END)\n",
    "            #Si el jugador repite letras, se le indica, no sale del ciclo entonces, pide una nueva letra.\n",
    "\n",
    "        elif Letra == str(1):\n",
    "            print(color.BOLD + f\"Tu palabra es: {palabra_secreta_cadena}\" + color.END)\n",
    "            #Si el jugador escribe el \"numero 1\", se revela la palabra secreta.\n",
    "            #Y pide una nueva letra.\n",
    "\n",
    "        else:\n",
    "            letras_usadas.append(Letra)\n",
    "            break\n",
    "            #Si la letra ingresada es valida, se romple el ciclo, y se almacena la letra dada, en la variable letras_usadas.\n",
    "            \n",
    "    for i in range(len(palabra_secreta)):\n",
    "        if palabra_secreta[i] == Letra:\n",
    "                Linea_Respuesta[i] = Letra\n",
    "                #El for iterara tantas veces como letras tenga la palabra secreta.\n",
    "                #En cada iteración se comparara una nueva letra de la palabra secreta, asi por toda la palabra.\n",
    "                #Si al comparar una letra de la palabra secreta se encuentra que es igual a la letra que el jugador dio,\n",
    "                #La lista Linea_Respuesta, que al inicio tenia los guiones bajos, sera modificada, y se colocara la letra\n",
    "                #que el usuario dio, en la posición correspondiente.\n",
    "                #Esto funciona si en la palabra hay letras repetidas, pues el for compara todas las letras.\n",
    "    print()\n",
    "                \n",
    "    if Letra not in palabra_secreta:\n",
    "        Errores += 1\n",
    "        #Si la letra que el jugador dio no esta presente en palabra secreta, a la variable Errores se le suma 1."
   ]
  },
  {
   "cell_type": "code",
   "execution_count": null,
   "id": "1893044d",
   "metadata": {},
   "outputs": [],
   "source": []
  }
 ],
 "metadata": {
  "kernelspec": {
   "display_name": "Python 3",
   "language": "python",
   "name": "python3"
  },
  "language_info": {
   "codemirror_mode": {
    "name": "ipython",
    "version": 3
   },
   "file_extension": ".py",
   "mimetype": "text/x-python",
   "name": "python",
   "nbconvert_exporter": "python",
   "pygments_lexer": "ipython3",
   "version": "3.8.8"
  }
 },
 "nbformat": 4,
 "nbformat_minor": 5
}
